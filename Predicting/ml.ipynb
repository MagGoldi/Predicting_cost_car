{
 "cells": [
  {
   "cell_type": "code",
   "execution_count": 41,
   "metadata": {},
   "outputs": [],
   "source": [
    "import numpy as np \n",
    "import pandas as pd\n",
    "import matplotlib.pyplot as plt\n",
    "\n",
    "\n",
    "from sklearn.model_selection import train_test_split\n",
    "\n",
    "from sklearn.preprocessing import StandardScaler\n",
    "from sklearn.preprocessing import OneHotEncoder\n",
    "from sklearn.compose import ColumnTransformer\n",
    "\n",
    "from sklearn.linear_model import LinearRegression\n",
    "from sklearn.metrics import mean_squared_error\n",
    "from sklearn.metrics import mean_absolute_error\n",
    "\n",
    "from sklearn.tree import DecisionTreeRegressor\n",
    "from sklearn.model_selection import GridSearchCV\n",
    "from sklearn.model_selection import RandomizedSearchCV\n",
    "\n",
    "from sklearn.ensemble import RandomForestRegressor"
   ]
  },
  {
   "cell_type": "code",
   "execution_count": 4,
   "metadata": {},
   "outputs": [
    {
     "name": "stdout",
     "output_type": "stream",
     "text": [
      "(15615, 13)\n"
     ]
    },
    {
     "name": "stderr",
     "output_type": "stream",
     "text": [
      "<>:1: SyntaxWarning: invalid escape sequence '\\P'\n",
      "<>:1: SyntaxWarning: invalid escape sequence '\\P'\n",
      "C:\\Users\\фвьшт\\AppData\\Local\\Temp\\ipykernel_8508\\3374424542.py:1: SyntaxWarning: invalid escape sequence '\\P'\n",
      "  cars_df = pd.read_csv('C:\\PYTHON\\Predicting_cost_car\\Files/final_car_data_2023-12-17.csv')\n"
     ]
    },
    {
     "data": {
      "text/html": [
       "<div>\n",
       "<style scoped>\n",
       "    .dataframe tbody tr th:only-of-type {\n",
       "        vertical-align: middle;\n",
       "    }\n",
       "\n",
       "    .dataframe tbody tr th {\n",
       "        vertical-align: top;\n",
       "    }\n",
       "\n",
       "    .dataframe thead th {\n",
       "        text-align: right;\n",
       "    }\n",
       "</style>\n",
       "<table border=\"1\" class=\"dataframe\">\n",
       "  <thead>\n",
       "    <tr style=\"text-align: right;\">\n",
       "      <th></th>\n",
       "      <th>Brand</th>\n",
       "      <th>Model</th>\n",
       "      <th>Price</th>\n",
       "      <th>Year</th>\n",
       "      <th>Condition</th>\n",
       "      <th>Transmission</th>\n",
       "      <th>Mileage</th>\n",
       "      <th>Body_type</th>\n",
       "      <th>Drive_type</th>\n",
       "      <th>Count_horsepower</th>\n",
       "      <th>Engine_type</th>\n",
       "      <th>Usage_intensity</th>\n",
       "      <th>Origin</th>\n",
       "    </tr>\n",
       "  </thead>\n",
       "  <tbody>\n",
       "    <tr>\n",
       "      <th>0</th>\n",
       "      <td>Audi</td>\n",
       "      <td>A6</td>\n",
       "      <td>1700000</td>\n",
       "      <td>2012</td>\n",
       "      <td>0</td>\n",
       "      <td>AMT</td>\n",
       "      <td>209000</td>\n",
       "      <td>седан</td>\n",
       "      <td>полный</td>\n",
       "      <td>245</td>\n",
       "      <td>дизель</td>\n",
       "      <td>17416.666667</td>\n",
       "      <td>European</td>\n",
       "    </tr>\n",
       "    <tr>\n",
       "      <th>1</th>\n",
       "      <td>Audi</td>\n",
       "      <td>Q7</td>\n",
       "      <td>2150000</td>\n",
       "      <td>2009</td>\n",
       "      <td>0</td>\n",
       "      <td>AT</td>\n",
       "      <td>5</td>\n",
       "      <td>внедорожник</td>\n",
       "      <td>полный</td>\n",
       "      <td>239</td>\n",
       "      <td>дизель</td>\n",
       "      <td>0.333333</td>\n",
       "      <td>European</td>\n",
       "    </tr>\n",
       "    <tr>\n",
       "      <th>2</th>\n",
       "      <td>Audi</td>\n",
       "      <td>A6</td>\n",
       "      <td>2700000</td>\n",
       "      <td>2015</td>\n",
       "      <td>0</td>\n",
       "      <td>AMT</td>\n",
       "      <td>149000</td>\n",
       "      <td>седан</td>\n",
       "      <td>полный</td>\n",
       "      <td>333</td>\n",
       "      <td>бензин</td>\n",
       "      <td>16555.555556</td>\n",
       "      <td>European</td>\n",
       "    </tr>\n",
       "    <tr>\n",
       "      <th>3</th>\n",
       "      <td>Audi</td>\n",
       "      <td>A5</td>\n",
       "      <td>5890000</td>\n",
       "      <td>2022</td>\n",
       "      <td>0</td>\n",
       "      <td>AMT</td>\n",
       "      <td>5400</td>\n",
       "      <td>лифтбек</td>\n",
       "      <td>полный</td>\n",
       "      <td>249</td>\n",
       "      <td>бензин</td>\n",
       "      <td>2700.000000</td>\n",
       "      <td>European</td>\n",
       "    </tr>\n",
       "    <tr>\n",
       "      <th>4</th>\n",
       "      <td>Audi</td>\n",
       "      <td>Q5</td>\n",
       "      <td>3150000</td>\n",
       "      <td>2019</td>\n",
       "      <td>0</td>\n",
       "      <td>AMT</td>\n",
       "      <td>61000</td>\n",
       "      <td>внедорожник</td>\n",
       "      <td>полный</td>\n",
       "      <td>163</td>\n",
       "      <td>дизель</td>\n",
       "      <td>12200.000000</td>\n",
       "      <td>European</td>\n",
       "    </tr>\n",
       "  </tbody>\n",
       "</table>\n",
       "</div>"
      ],
      "text/plain": [
       "  Brand Model    Price  Year  Condition Transmission  Mileage    Body_type  \\\n",
       "0  Audi    A6  1700000  2012          0          AMT   209000        седан   \n",
       "1  Audi    Q7  2150000  2009          0           AT        5  внедорожник   \n",
       "2  Audi    A6  2700000  2015          0          AMT   149000        седан   \n",
       "3  Audi    A5  5890000  2022          0          AMT     5400      лифтбек   \n",
       "4  Audi    Q5  3150000  2019          0          AMT    61000  внедорожник   \n",
       "\n",
       "  Drive_type  Count_horsepower Engine_type  Usage_intensity    Origin  \n",
       "0     полный               245      дизель     17416.666667  European  \n",
       "1     полный               239      дизель         0.333333  European  \n",
       "2     полный               333      бензин     16555.555556  European  \n",
       "3     полный               249      бензин      2700.000000  European  \n",
       "4     полный               163      дизель     12200.000000  European  "
      ]
     },
     "execution_count": 4,
     "metadata": {},
     "output_type": "execute_result"
    }
   ],
   "source": [
    "cars_df = pd.read_csv('C:\\PYTHON\\Predicting_cost_car\\Files/final_car_data_2023-12-17.csv')\n",
    "print(cars_df.shape)\n",
    "cars_df.head()"
   ]
  },
  {
   "cell_type": "code",
   "execution_count": 48,
   "metadata": {},
   "outputs": [],
   "source": [
    "y = cars_df[\"Price\"]\n",
    "X = cars_df.drop(columns=[\"Price\"])\n",
    "\n",
    "X_train, X_test, y_train, y_test = train_test_split(X, y, test_size=0.3, random_state=77)"
   ]
  },
  {
   "cell_type": "markdown",
   "metadata": {},
   "source": [
    "## 1. Гипотезы "
   ]
  },
  {
   "cell_type": "markdown",
   "metadata": {},
   "source": [
    "## 2. Маштабирование и кодирование признаков"
   ]
  },
  {
   "cell_type": "code",
   "execution_count": 15,
   "metadata": {},
   "outputs": [],
   "source": [
    "numeric_features = ['Year', 'Condition', 'Mileage', 'Count_horsepower', 'Usage_intensity']\n",
    "\n",
    "categorical_features = ['Brand', 'Model', 'Transmission', 'Body_type', 'Drive_type', 'Engine_type', 'Origin']"
   ]
  },
  {
   "cell_type": "code",
   "execution_count": 16,
   "metadata": {},
   "outputs": [],
   "source": [
    "column_transformer = ColumnTransformer([\n",
    "    ('scaling', StandardScaler(), numeric_features),    \n",
    "    ('ohe', OneHotEncoder(handle_unknown=\"ignore\", drop=\"first\"), categorical_features)\n",
    "])"
   ]
  },
  {
   "cell_type": "code",
   "execution_count": 17,
   "metadata": {},
   "outputs": [
    {
     "data": {
      "text/html": [
       "<style>#sk-container-id-3 {color: black;}#sk-container-id-3 pre{padding: 0;}#sk-container-id-3 div.sk-toggleable {background-color: white;}#sk-container-id-3 label.sk-toggleable__label {cursor: pointer;display: block;width: 100%;margin-bottom: 0;padding: 0.3em;box-sizing: border-box;text-align: center;}#sk-container-id-3 label.sk-toggleable__label-arrow:before {content: \"▸\";float: left;margin-right: 0.25em;color: #696969;}#sk-container-id-3 label.sk-toggleable__label-arrow:hover:before {color: black;}#sk-container-id-3 div.sk-estimator:hover label.sk-toggleable__label-arrow:before {color: black;}#sk-container-id-3 div.sk-toggleable__content {max-height: 0;max-width: 0;overflow: hidden;text-align: left;background-color: #f0f8ff;}#sk-container-id-3 div.sk-toggleable__content pre {margin: 0.2em;color: black;border-radius: 0.25em;background-color: #f0f8ff;}#sk-container-id-3 input.sk-toggleable__control:checked~div.sk-toggleable__content {max-height: 200px;max-width: 100%;overflow: auto;}#sk-container-id-3 input.sk-toggleable__control:checked~label.sk-toggleable__label-arrow:before {content: \"▾\";}#sk-container-id-3 div.sk-estimator input.sk-toggleable__control:checked~label.sk-toggleable__label {background-color: #d4ebff;}#sk-container-id-3 div.sk-label input.sk-toggleable__control:checked~label.sk-toggleable__label {background-color: #d4ebff;}#sk-container-id-3 input.sk-hidden--visually {border: 0;clip: rect(1px 1px 1px 1px);clip: rect(1px, 1px, 1px, 1px);height: 1px;margin: -1px;overflow: hidden;padding: 0;position: absolute;width: 1px;}#sk-container-id-3 div.sk-estimator {font-family: monospace;background-color: #f0f8ff;border: 1px dotted black;border-radius: 0.25em;box-sizing: border-box;margin-bottom: 0.5em;}#sk-container-id-3 div.sk-estimator:hover {background-color: #d4ebff;}#sk-container-id-3 div.sk-parallel-item::after {content: \"\";width: 100%;border-bottom: 1px solid gray;flex-grow: 1;}#sk-container-id-3 div.sk-label:hover label.sk-toggleable__label {background-color: #d4ebff;}#sk-container-id-3 div.sk-serial::before {content: \"\";position: absolute;border-left: 1px solid gray;box-sizing: border-box;top: 0;bottom: 0;left: 50%;z-index: 0;}#sk-container-id-3 div.sk-serial {display: flex;flex-direction: column;align-items: center;background-color: white;padding-right: 0.2em;padding-left: 0.2em;position: relative;}#sk-container-id-3 div.sk-item {position: relative;z-index: 1;}#sk-container-id-3 div.sk-parallel {display: flex;align-items: stretch;justify-content: center;background-color: white;position: relative;}#sk-container-id-3 div.sk-item::before, #sk-container-id-3 div.sk-parallel-item::before {content: \"\";position: absolute;border-left: 1px solid gray;box-sizing: border-box;top: 0;bottom: 0;left: 50%;z-index: -1;}#sk-container-id-3 div.sk-parallel-item {display: flex;flex-direction: column;z-index: 1;position: relative;background-color: white;}#sk-container-id-3 div.sk-parallel-item:first-child::after {align-self: flex-end;width: 50%;}#sk-container-id-3 div.sk-parallel-item:last-child::after {align-self: flex-start;width: 50%;}#sk-container-id-3 div.sk-parallel-item:only-child::after {width: 0;}#sk-container-id-3 div.sk-dashed-wrapped {border: 1px dashed gray;margin: 0 0.4em 0.5em 0.4em;box-sizing: border-box;padding-bottom: 0.4em;background-color: white;}#sk-container-id-3 div.sk-label label {font-family: monospace;font-weight: bold;display: inline-block;line-height: 1.2em;}#sk-container-id-3 div.sk-label-container {text-align: center;}#sk-container-id-3 div.sk-container {/* jupyter's `normalize.less` sets `[hidden] { display: none; }` but bootstrap.min.css set `[hidden] { display: none !important; }` so we also need the `!important` here to be able to override the default hidden behavior on the sphinx rendered scikit-learn.org. See: https://github.com/scikit-learn/scikit-learn/issues/21755 */display: inline-block !important;position: relative;}#sk-container-id-3 div.sk-text-repr-fallback {display: none;}</style><div id=\"sk-container-id-3\" class=\"sk-top-container\"><div class=\"sk-text-repr-fallback\"><pre>ColumnTransformer(transformers=[(&#x27;scaling&#x27;, StandardScaler(),\n",
       "                                 [&#x27;Year&#x27;, &#x27;Condition&#x27;, &#x27;Mileage&#x27;,\n",
       "                                  &#x27;Count_horsepower&#x27;, &#x27;Usage_intensity&#x27;]),\n",
       "                                (&#x27;ohe&#x27;,\n",
       "                                 OneHotEncoder(drop=&#x27;first&#x27;,\n",
       "                                               handle_unknown=&#x27;ignore&#x27;),\n",
       "                                 [&#x27;Brand&#x27;, &#x27;Model&#x27;, &#x27;Transmission&#x27;, &#x27;Body_type&#x27;,\n",
       "                                  &#x27;Drive_type&#x27;, &#x27;Engine_type&#x27;, &#x27;Origin&#x27;])])</pre><b>In a Jupyter environment, please rerun this cell to show the HTML representation or trust the notebook. <br />On GitHub, the HTML representation is unable to render, please try loading this page with nbviewer.org.</b></div><div class=\"sk-container\" hidden><div class=\"sk-item sk-dashed-wrapped\"><div class=\"sk-label-container\"><div class=\"sk-label sk-toggleable\"><input class=\"sk-toggleable__control sk-hidden--visually\" id=\"sk-estimator-id-11\" type=\"checkbox\" ><label for=\"sk-estimator-id-11\" class=\"sk-toggleable__label sk-toggleable__label-arrow\">ColumnTransformer</label><div class=\"sk-toggleable__content\"><pre>ColumnTransformer(transformers=[(&#x27;scaling&#x27;, StandardScaler(),\n",
       "                                 [&#x27;Year&#x27;, &#x27;Condition&#x27;, &#x27;Mileage&#x27;,\n",
       "                                  &#x27;Count_horsepower&#x27;, &#x27;Usage_intensity&#x27;]),\n",
       "                                (&#x27;ohe&#x27;,\n",
       "                                 OneHotEncoder(drop=&#x27;first&#x27;,\n",
       "                                               handle_unknown=&#x27;ignore&#x27;),\n",
       "                                 [&#x27;Brand&#x27;, &#x27;Model&#x27;, &#x27;Transmission&#x27;, &#x27;Body_type&#x27;,\n",
       "                                  &#x27;Drive_type&#x27;, &#x27;Engine_type&#x27;, &#x27;Origin&#x27;])])</pre></div></div></div><div class=\"sk-parallel\"><div class=\"sk-parallel-item\"><div class=\"sk-item\"><div class=\"sk-label-container\"><div class=\"sk-label sk-toggleable\"><input class=\"sk-toggleable__control sk-hidden--visually\" id=\"sk-estimator-id-12\" type=\"checkbox\" ><label for=\"sk-estimator-id-12\" class=\"sk-toggleable__label sk-toggleable__label-arrow\">scaling</label><div class=\"sk-toggleable__content\"><pre>[&#x27;Year&#x27;, &#x27;Condition&#x27;, &#x27;Mileage&#x27;, &#x27;Count_horsepower&#x27;, &#x27;Usage_intensity&#x27;]</pre></div></div></div><div class=\"sk-serial\"><div class=\"sk-item\"><div class=\"sk-estimator sk-toggleable\"><input class=\"sk-toggleable__control sk-hidden--visually\" id=\"sk-estimator-id-13\" type=\"checkbox\" ><label for=\"sk-estimator-id-13\" class=\"sk-toggleable__label sk-toggleable__label-arrow\">StandardScaler</label><div class=\"sk-toggleable__content\"><pre>StandardScaler()</pre></div></div></div></div></div></div><div class=\"sk-parallel-item\"><div class=\"sk-item\"><div class=\"sk-label-container\"><div class=\"sk-label sk-toggleable\"><input class=\"sk-toggleable__control sk-hidden--visually\" id=\"sk-estimator-id-14\" type=\"checkbox\" ><label for=\"sk-estimator-id-14\" class=\"sk-toggleable__label sk-toggleable__label-arrow\">ohe</label><div class=\"sk-toggleable__content\"><pre>[&#x27;Brand&#x27;, &#x27;Model&#x27;, &#x27;Transmission&#x27;, &#x27;Body_type&#x27;, &#x27;Drive_type&#x27;, &#x27;Engine_type&#x27;, &#x27;Origin&#x27;]</pre></div></div></div><div class=\"sk-serial\"><div class=\"sk-item\"><div class=\"sk-estimator sk-toggleable\"><input class=\"sk-toggleable__control sk-hidden--visually\" id=\"sk-estimator-id-15\" type=\"checkbox\" ><label for=\"sk-estimator-id-15\" class=\"sk-toggleable__label sk-toggleable__label-arrow\">OneHotEncoder</label><div class=\"sk-toggleable__content\"><pre>OneHotEncoder(drop=&#x27;first&#x27;, handle_unknown=&#x27;ignore&#x27;)</pre></div></div></div></div></div></div></div></div></div></div>"
      ],
      "text/plain": [
       "ColumnTransformer(transformers=[('scaling', StandardScaler(),\n",
       "                                 ['Year', 'Condition', 'Mileage',\n",
       "                                  'Count_horsepower', 'Usage_intensity']),\n",
       "                                ('ohe',\n",
       "                                 OneHotEncoder(drop='first',\n",
       "                                               handle_unknown='ignore'),\n",
       "                                 ['Brand', 'Model', 'Transmission', 'Body_type',\n",
       "                                  'Drive_type', 'Engine_type', 'Origin'])])"
      ]
     },
     "execution_count": 17,
     "metadata": {},
     "output_type": "execute_result"
    }
   ],
   "source": [
    "column_transformer"
   ]
  },
  {
   "cell_type": "code",
   "execution_count": 20,
   "metadata": {},
   "outputs": [
    {
     "data": {
      "text/plain": [
       "array(['scaling__Year', 'scaling__Condition', 'scaling__Mileage',\n",
       "       'scaling__Count_horsepower', 'scaling__Usage_intensity',\n",
       "       'ohe__Brand_Audi', 'ohe__Brand_BMW', 'ohe__Brand_Chery',\n",
       "       'ohe__Brand_Chevrolet', 'ohe__Brand_Daewoo', 'ohe__Brand_Datsun',\n",
       "       'ohe__Brand_Ford', 'ohe__Brand_Geely', 'ohe__Brand_Haval',\n",
       "       'ohe__Brand_Honda', 'ohe__Brand_Hyundai', 'ohe__Brand_Kia',\n",
       "       'ohe__Brand_Lexus', 'ohe__Brand_Mazda', 'ohe__Brand_Mercedes-Benz',\n",
       "       'ohe__Brand_Mitsubishi', 'ohe__Brand_Nissan', 'ohe__Brand_Opel',\n",
       "       'ohe__Brand_Peugeot', 'ohe__Brand_Renault', 'ohe__Brand_Skoda',\n",
       "       'ohe__Brand_Subaru', 'ohe__Brand_Suzuki', 'ohe__Brand_Toyota',\n",
       "       'ohe__Brand_Volkswagen', 'ohe__Brand_ВАЗ', 'ohe__Brand_ГАЗ',\n",
       "       'ohe__Brand_УАЗ', 'ohe__Model_(LADA) 2101',\n",
       "       'ohe__Model_(LADA) 2102', 'ohe__Model_(LADA) 2103',\n",
       "       'ohe__Model_(LADA) 2104', 'ohe__Model_(LADA) 2105',\n",
       "       'ohe__Model_(LADA) 2106', 'ohe__Model_(LADA) 2107',\n",
       "       'ohe__Model_(LADA) 2108', 'ohe__Model_(LADA) 2109',\n",
       "       'ohe__Model_(LADA) 21099', 'ohe__Model_(LADA) 2110',\n",
       "       'ohe__Model_(LADA) 2111', 'ohe__Model_(LADA) 2112',\n",
       "       'ohe__Model_(LADA) 2113 Samara', 'ohe__Model_(LADA) 2114 Samara',\n",
       "       'ohe__Model_(LADA) 2115 Samara',\n",
       "       'ohe__Model_(LADA) 2121 (4x4) Urban',\n",
       "       'ohe__Model_(LADA) 2121 (4x4) Рысь',\n",
       "       'ohe__Model_(LADA) 2121 (4x4) Фора', 'ohe__Model_(LADA) 2123',\n",
       "       'ohe__Model_(LADA) 2131 (4x4) Urban',\n",
       "       'ohe__Model_(LADA) 2131 (4x4) Рысь', 'ohe__Model_(LADA) 2329',\n",
       "       'ohe__Model_(LADA) 4x4 (Нива)', 'ohe__Model_(LADA) Granta',\n",
       "       'ohe__Model_(LADA) Granta Cross', 'ohe__Model_(LADA) Kalina',\n",
       "       'ohe__Model_(LADA) Kalina Cross', 'ohe__Model_(LADA) Largus',\n",
       "       'ohe__Model_(LADA) Largus Cross', 'ohe__Model_(LADA) Niva',\n",
       "       'ohe__Model_(LADA) Niva Legend',\n",
       "       'ohe__Model_(LADA) Niva Legend Bronto',\n",
       "       'ohe__Model_(LADA) Niva Off-road', 'ohe__Model_(LADA) Niva Travel',\n",
       "       'ohe__Model_(LADA) Priora', 'ohe__Model_(LADA) Vesta',\n",
       "       'ohe__Model_(LADA) Vesta Cross', 'ohe__Model_(LADA) XRAY',\n",
       "       'ohe__Model_(LADA) XRAY Cross', 'ohe__Model_1 серия',\n",
       "       'ohe__Model_100', 'ohe__Model_107', 'ohe__Model_190 (W201)',\n",
       "       'ohe__Model_2 серия Active Tourer', 'ohe__Model_2008',\n",
       "       'ohe__Model_206', 'ohe__Model_207', 'ohe__Model_208',\n",
       "       'ohe__Model_21 Волга', 'ohe__Model_2206', 'ohe__Model_24 Волга',\n",
       "       'ohe__Model_3', 'ohe__Model_3 серия', 'ohe__Model_3 серия GT',\n",
       "       'ohe__Model_3008', 'ohe__Model_301', 'ohe__Model_306',\n",
       "       'ohe__Model_307', 'ohe__Model_308', 'ohe__Model_3102 Волга',\n",
       "       'ohe__Model_31029 Волга', 'ohe__Model_3110 Волга',\n",
       "       'ohe__Model_31105 Волга', 'ohe__Model_3151', 'ohe__Model_31512',\n",
       "       'ohe__Model_31514', 'ohe__Model_31519', 'ohe__Model_3160',\n",
       "       'ohe__Model_3303', 'ohe__Model_350Z', 'ohe__Model_3741',\n",
       "       'ohe__Model_3909', 'ohe__Model_39094', 'ohe__Model_3962',\n",
       "       'ohe__Model_4 серия', 'ohe__Model_4007', 'ohe__Model_406',\n",
       "       'ohe__Model_407', 'ohe__Model_408', 'ohe__Model_452 Буханка',\n",
       "       'ohe__Model_469', 'ohe__Model_5 серия', 'ohe__Model_5 серия GT',\n",
       "       'ohe__Model_508', 'ohe__Model_6', 'ohe__Model_6 серия GT',\n",
       "       'ohe__Model_607', 'ohe__Model_626', 'ohe__Model_69',\n",
       "       'ohe__Model_7 серия', 'ohe__Model_8 серия', 'ohe__Model_80',\n",
       "       'ohe__Model_A-класс', 'ohe__Model_A1', 'ohe__Model_A3',\n",
       "       'ohe__Model_A4', 'ohe__Model_A4 Allroad Quattro', 'ohe__Model_A5',\n",
       "       'ohe__Model_A6', 'ohe__Model_A6 Allroad Quattro', 'ohe__Model_A7',\n",
       "       'ohe__Model_A8', 'ohe__Model_AD', 'ohe__Model_AMG GT',\n",
       "       'ohe__Model_ASX', 'ohe__Model_AZ-Wagon', 'ohe__Model_Accent',\n",
       "       'ohe__Model_Accord', 'ohe__Model_Airtrek', 'ohe__Model_Allion',\n",
       "       'ohe__Model_Almera', 'ohe__Model_Almera Classic',\n",
       "       'ohe__Model_Alphard', 'ohe__Model_Altima', 'ohe__Model_Alto',\n",
       "       'ohe__Model_Amarok', 'ohe__Model_Amulet (A15)',\n",
       "       'ohe__Model_Antara', 'ohe__Model_Aqua', 'ohe__Model_Arkana',\n",
       "       'ohe__Model_Astra', 'ohe__Model_Astra GTC', 'ohe__Model_Atenza',\n",
       "       'ohe__Model_Atlas', 'ohe__Model_Atlas Pro', 'ohe__Model_Atos',\n",
       "       'ohe__Model_Auris', 'ohe__Model_Avalon', 'ohe__Model_Avante',\n",
       "       'ohe__Model_Avensis', 'ohe__Model_Aveo', 'ohe__Model_Axela',\n",
       "       'ohe__Model_B-Series', 'ohe__Model_B-класс', 'ohe__Model_BRZ',\n",
       "       'ohe__Model_Baleno', 'ohe__Model_Bayon', 'ohe__Model_Binyue Cool',\n",
       "       'ohe__Model_Bluebird Sylphy', 'ohe__Model_Bonus (A13)',\n",
       "       'ohe__Model_Bonus 3 (E3)', 'ohe__Model_Bora', 'ohe__Model_Boxer',\n",
       "       'ohe__Model_Boyue Cool', 'ohe__Model_Boyue L',\n",
       "       'ohe__Model_Bronco Sport', 'ohe__Model_C-HR', 'ohe__Model_C-MAX',\n",
       "       'ohe__Model_C-класс', 'ohe__Model_C-класс AMG',\n",
       "       'ohe__Model_CLA-класс', 'ohe__Model_CLK-класс',\n",
       "       'ohe__Model_CLS-класс', 'ohe__Model_CR-V', 'ohe__Model_CR-Z',\n",
       "       'ohe__Model_CT', 'ohe__Model_CX-3', 'ohe__Model_CX-4',\n",
       "       'ohe__Model_CX-5', 'ohe__Model_CX-60', 'ohe__Model_CX-7',\n",
       "       'ohe__Model_CX-8', 'ohe__Model_CX-9', 'ohe__Model_Caddy',\n",
       "       'ohe__Model_Camaro', 'ohe__Model_Camry', 'ohe__Model_Captiva',\n",
       "       'ohe__Model_Caravelle', 'ohe__Model_Carens',\n",
       "       'ohe__Model_Carina ED', 'ohe__Model_Carnival', 'ohe__Model_Ceed',\n",
       "       'ohe__Model_Celica', 'ohe__Model_Cerato', 'ohe__Model_Civic',\n",
       "       'ohe__Model_Clio', 'ohe__Model_Cobalt', 'ohe__Model_Colt',\n",
       "       'ohe__Model_Coolray', 'ohe__Model_Corolla',\n",
       "       'ohe__Model_Corolla Axio', 'ohe__Model_Corolla Cross',\n",
       "       'ohe__Model_Corolla Fielder', 'ohe__Model_Corolla Rumion',\n",
       "       'ohe__Model_Corolla Sporty', 'ohe__Model_Corsa',\n",
       "       'ohe__Model_Corvette', 'ohe__Model_Crafter', 'ohe__Model_Cresta',\n",
       "       'ohe__Model_Creta', 'ohe__Model_Crossroad', 'ohe__Model_Crosstrek',\n",
       "       'ohe__Model_Crown', 'ohe__Model_Cruze', 'ohe__Model_Cube',\n",
       "       'ohe__Model_DaGou (Big Dog)', 'ohe__Model_Dargo',\n",
       "       'ohe__Model_Dargo X', 'ohe__Model_Dayz', 'ohe__Model_Delica D2',\n",
       "       'ohe__Model_Delica D5', 'ohe__Model_Demio', 'ohe__Model_Dingo',\n",
       "       'ohe__Model_Duster', 'ohe__Model_E-класс', 'ohe__Model_EK Wagon',\n",
       "       'ohe__Model_ES', 'ohe__Model_Eclipse Cross', 'ohe__Model_EcoSport',\n",
       "       'ohe__Model_Elantra', 'ohe__Model_Elgrand', 'ohe__Model_Elysion',\n",
       "       'ohe__Model_Emgrand', 'ohe__Model_Emgrand 7',\n",
       "       'ohe__Model_Emgrand EC7', 'ohe__Model_Emgrand X7',\n",
       "       'ohe__Model_Encino', 'ohe__Model_Epica', 'ohe__Model_Ertiga',\n",
       "       'ohe__Model_Escape', 'ohe__Model_Escudo', 'ohe__Model_Espace',\n",
       "       'ohe__Model_Esquire', 'ohe__Model_Estima', 'ohe__Model_Every',\n",
       "       'ohe__Model_Explore 06', 'ohe__Model_Explorer', 'ohe__Model_F-150',\n",
       "       'ohe__Model_F7', 'ohe__Model_F7x', 'ohe__Model_Fabia',\n",
       "       'ohe__Model_Fiesta', 'ohe__Model_Fit', 'ohe__Model_Fit Shuttle',\n",
       "       'ohe__Model_Flair', 'ohe__Model_Flair Crossover',\n",
       "       'ohe__Model_Fluence', 'ohe__Model_Focus', 'ohe__Model_Focus ST',\n",
       "       'ohe__Model_Fora (A21)', 'ohe__Model_Forester', 'ohe__Model_Forte',\n",
       "       'ohe__Model_Fortuner', 'ohe__Model_Freed', 'ohe__Model_Freed+',\n",
       "       'ohe__Model_Frontera', 'ohe__Model_Fuga', 'ohe__Model_Fusion',\n",
       "       'ohe__Model_Fusion (North America)', 'ohe__Model_G-класс',\n",
       "       'ohe__Model_G-класс AMG', 'ohe__Model_GL-класс',\n",
       "       'ohe__Model_GL-класс AMG', 'ohe__Model_GLA-класс',\n",
       "       'ohe__Model_GLB-класс', 'ohe__Model_GLC-класс',\n",
       "       'ohe__Model_GLC-класс Coupe', 'ohe__Model_GLE-класс',\n",
       "       'ohe__Model_GLE-класс AMG', 'ohe__Model_GLE-класс AMG Coupe',\n",
       "       'ohe__Model_GLE-класс Coupe', 'ohe__Model_GLK-класс',\n",
       "       'ohe__Model_GLS-класс', 'ohe__Model_GLS-класс AMG',\n",
       "       'ohe__Model_GS', 'ohe__Model_GT86', 'ohe__Model_GX',\n",
       "       'ohe__Model_Galant', 'ohe__Model_Galaxy', 'ohe__Model_Genesis',\n",
       "       'ohe__Model_Gentra', 'ohe__Model_Getz', 'ohe__Model_Golf',\n",
       "       'ohe__Model_Golf Plus', 'ohe__Model_Grace',\n",
       "       'ohe__Model_Grand Highlander', 'ohe__Model_Grand Santa Fe',\n",
       "       'ohe__Model_Grand Scenic', 'ohe__Model_Grand Starex',\n",
       "       'ohe__Model_Grand Vitara', 'ohe__Model_Grandland X',\n",
       "       'ohe__Model_H-1', 'ohe__Model_H2', 'ohe__Model_H5',\n",
       "       'ohe__Model_H6', 'ohe__Model_H9', 'ohe__Model_HR-V',\n",
       "       'ohe__Model_Harrier', 'ohe__Model_Hiace', 'ohe__Model_Highlander',\n",
       "       'ohe__Model_Hilux', 'ohe__Model_Hunter', 'ohe__Model_Hustler',\n",
       "       'ohe__Model_ID.4 Crozz', 'ohe__Model_ID.6 Crozz', 'ohe__Model_ILX',\n",
       "       'ohe__Model_IS', 'ohe__Model_Ignis', 'ohe__Model_Impreza',\n",
       "       'ohe__Model_Impreza WRX STI', 'ohe__Model_IndiS (S18D)',\n",
       "       'ohe__Model_Insight', 'ohe__Model_Insignia', 'ohe__Model_Inspire',\n",
       "       'ohe__Model_Integra', 'ohe__Model_Isis', 'ohe__Model_Jade',\n",
       "       'ohe__Model_Jazz', 'ohe__Model_Jetta', 'ohe__Model_Jimny',\n",
       "       'ohe__Model_Jolion', 'ohe__Model_Juke', 'ohe__Model_Justy',\n",
       "       'ohe__Model_K3', 'ohe__Model_K5', 'ohe__Model_K7', 'ohe__Model_K8',\n",
       "       'ohe__Model_K900', 'ohe__Model_Kamiq', 'ohe__Model_Kangoo',\n",
       "       'ohe__Model_Kapitan', 'ohe__Model_Kaptur', 'ohe__Model_Karoq',\n",
       "       'ohe__Model_Kizashi', 'ohe__Model_Kodiaq', 'ohe__Model_Koleos',\n",
       "       'ohe__Model_Kona', 'ohe__Model_Kuga', 'ohe__Model_L200',\n",
       "       'ohe__Model_LT', 'ohe__Model_LX', 'ohe__Model_Lacetti',\n",
       "       'ohe__Model_Lafesta', 'ohe__Model_Laguna', 'ohe__Model_Lancer',\n",
       "       'ohe__Model_Lancer Evolution', 'ohe__Model_Land Cruiser',\n",
       "       'ohe__Model_Land Cruiser Prado', 'ohe__Model_Landy',\n",
       "       'ohe__Model_Lanos', 'ohe__Model_Leaf', 'ohe__Model_Legacy',\n",
       "       'ohe__Model_Legend', 'ohe__Model_Levorg', 'ohe__Model_Liana',\n",
       "       'ohe__Model_Life', 'ohe__Model_Logan', 'ohe__Model_Logan Stepway',\n",
       "       'ohe__Model_M-NV', 'ohe__Model_M-класс', 'ohe__Model_M-класс AMG',\n",
       "       'ohe__Model_M11 (A3)', 'ohe__Model_M5', 'ohe__Model_MDX',\n",
       "       'ohe__Model_MK', 'ohe__Model_MK Cross', 'ohe__Model_MPV',\n",
       "       'ohe__Model_Malibu', 'ohe__Model_March', 'ohe__Model_Mark II',\n",
       "       'ohe__Model_Mark II Wagon Qualis', 'ohe__Model_Mark X',\n",
       "       'ohe__Model_Matiz', 'ohe__Model_Matrix', 'ohe__Model_Maxcruz',\n",
       "       'ohe__Model_Maybach S-класс', 'ohe__Model_Megane',\n",
       "       'ohe__Model_Meriva', 'ohe__Model_Micra', 'ohe__Model_Mirage',\n",
       "       'ohe__Model_Moco', 'ohe__Model_Mohave', 'ohe__Model_Mokka',\n",
       "       'ohe__Model_Mondeo', 'ohe__Model_Monjaro',\n",
       "       'ohe__Model_Montero Sport', 'ohe__Model_Monza',\n",
       "       'ohe__Model_Morning', 'ohe__Model_Multivan', 'ohe__Model_Murano',\n",
       "       'ohe__Model_Mustang', 'ohe__Model_N-BOX', 'ohe__Model_N-WGN',\n",
       "       'ohe__Model_NV200', 'ohe__Model_NX', 'ohe__Model_Navara',\n",
       "       'ohe__Model_Nexia', 'ohe__Model_Niro', 'ohe__Model_Niva',\n",
       "       'ohe__Model_Noah', 'ohe__Model_Note', 'ohe__Model_Octavia',\n",
       "       'ohe__Model_Octavia Scout', 'ohe__Model_Omega', 'ohe__Model_Onix',\n",
       "       'ohe__Model_Opirus', 'ohe__Model_Optima', 'ohe__Model_Orlando',\n",
       "       'ohe__Model_Outback', 'ohe__Model_Outlander', 'ohe__Model_Pajero',\n",
       "       'ohe__Model_Pajero Mini', 'ohe__Model_Pajero Pinin',\n",
       "       'ohe__Model_Pajero Sport', 'ohe__Model_Palisade',\n",
       "       'ohe__Model_Partner', 'ohe__Model_Passat',\n",
       "       'ohe__Model_Passat (North America)', 'ohe__Model_Passat CC',\n",
       "       'ohe__Model_Passo', 'ohe__Model_Pathfinder', 'ohe__Model_Patriot',\n",
       "       'ohe__Model_Patrol', 'ohe__Model_Picanto',\n",
       "       'ohe__Model_Picanto X-Line', 'ohe__Model_Pickup',\n",
       "       'ohe__Model_Pilot', 'ohe__Model_Pixis Epoch',\n",
       "       'ohe__Model_Pixis Joy', 'ohe__Model_Pointer', 'ohe__Model_Polo',\n",
       "       'ohe__Model_Porter', 'ohe__Model_Preface', 'ohe__Model_Pride',\n",
       "       'ohe__Model_Primera', 'ohe__Model_Prius', 'ohe__Model_Prius Alpha',\n",
       "       'ohe__Model_Prius PHV', 'ohe__Model_ProAce', 'ohe__Model_ProCeed',\n",
       "       'ohe__Model_Probox', 'ohe__Model_Q3', 'ohe__Model_Q5',\n",
       "       'ohe__Model_Q7', 'ohe__Model_Q8', 'ohe__Model_QQ6 (S21)',\n",
       "       'ohe__Model_Qashqai', 'ohe__Model_Qashqai+2', 'ohe__Model_Quoris',\n",
       "       'ohe__Model_R Nessa', 'ohe__Model_RAV4', 'ohe__Model_RDX',\n",
       "       'ohe__Model_RS Q3', 'ohe__Model_RSX', 'ohe__Model_RVR',\n",
       "       'ohe__Model_RX', 'ohe__Model_RX-8', 'ohe__Model_Ractis',\n",
       "       'ohe__Model_Raize', 'ohe__Model_Ranger', 'ohe__Model_Rapid',\n",
       "       'ohe__Model_Ray', 'ohe__Model_Retona', 'ohe__Model_Rio',\n",
       "       'ohe__Model_Rio X', 'ohe__Model_Rio X-Line', 'ohe__Model_Roadster',\n",
       "       'ohe__Model_Rogue', 'ohe__Model_Roomy', 'ohe__Model_Rush',\n",
       "       'ohe__Model_S-MAX', 'ohe__Model_S-класс', 'ohe__Model_S-класс AMG',\n",
       "       'ohe__Model_S8', 'ohe__Model_SAI', 'ohe__Model_SLK-класс',\n",
       "       'ohe__Model_SX4', 'ohe__Model_Sandero',\n",
       "       'ohe__Model_Sandero Stepway', 'ohe__Model_Santa Fe',\n",
       "       'ohe__Model_Scenic', 'ohe__Model_Scirocco', 'ohe__Model_Seltos',\n",
       "       'ohe__Model_Sentra', 'ohe__Model_Sephia', 'ohe__Model_Sequoia',\n",
       "       'ohe__Model_Serena', 'ohe__Model_Sharan', 'ohe__Model_Shuttle',\n",
       "       'ohe__Model_Sienna', 'ohe__Model_Sienta', 'ohe__Model_Sierra',\n",
       "       'ohe__Model_Skyline', 'ohe__Model_Solaris', 'ohe__Model_Solio',\n",
       "       'ohe__Model_Sonata', 'ohe__Model_Sonet', 'ohe__Model_Sorento',\n",
       "       'ohe__Model_Sorento Prime', 'ohe__Model_Soul', 'ohe__Model_Spacia',\n",
       "       'ohe__Model_Spark', 'ohe__Model_Spectra', 'ohe__Model_Sportage',\n",
       "       'ohe__Model_Sprinter', 'ohe__Model_Sprinter Carib',\n",
       "       'ohe__Model_Sprinter Classic', 'ohe__Model_Sprinter Trueno',\n",
       "       'ohe__Model_Starex', 'ohe__Model_Staria', 'ohe__Model_Stepwgn',\n",
       "       'ohe__Model_Stinger', 'ohe__Model_Stonic', 'ohe__Model_Stream',\n",
       "       'ohe__Model_Suburban', 'ohe__Model_Succeed', 'ohe__Model_Superb',\n",
       "       'ohe__Model_Supra', 'ohe__Model_Sweet (QQ)', 'ohe__Model_Swift',\n",
       "       'ohe__Model_Symbol', 'ohe__Model_TL', 'ohe__Model_TLX',\n",
       "       'ohe__Model_TSX', 'ohe__Model_TT', 'ohe__Model_TTS',\n",
       "       'ohe__Model_Tahoe', 'ohe__Model_Talagon', 'ohe__Model_Tank',\n",
       "       'ohe__Model_Taos', 'ohe__Model_Tayron', 'ohe__Model_Teana',\n",
       "       'ohe__Model_Teramont', 'ohe__Model_Terrano', 'ohe__Model_Tiburon',\n",
       "       'ohe__Model_Tiggo (T11)', 'ohe__Model_Tiggo 2',\n",
       "       'ohe__Model_Tiggo 2 Pro', 'ohe__Model_Tiggo 3',\n",
       "       'ohe__Model_Tiggo 4', 'ohe__Model_Tiggo 4 Pro',\n",
       "       'ohe__Model_Tiggo 5', 'ohe__Model_Tiggo 7',\n",
       "       'ohe__Model_Tiggo 7 Plus', 'ohe__Model_Tiggo 7 Pro',\n",
       "       'ohe__Model_Tiggo 7 Pro Max', 'ohe__Model_Tiggo 8',\n",
       "       'ohe__Model_Tiggo 8 Pro', 'ohe__Model_Tiggo 8 Pro Max',\n",
       "       'ohe__Model_Tiguan', 'ohe__Model_Tiida', 'ohe__Model_Touareg',\n",
       "       'ohe__Model_Touran', 'ohe__Model_Tourneo Connect',\n",
       "       'ohe__Model_Town Ace Noah', 'ohe__Model_Transit',\n",
       "       'ohe__Model_Transit Custom', 'ohe__Model_Traveller',\n",
       "       'ohe__Model_Traverse', 'ohe__Model_Trax', 'ohe__Model_Tucson',\n",
       "       'ohe__Model_Tugella', 'ohe__Model_Tundra', 'ohe__Model_Tuscani',\n",
       "       'ohe__Model_UX', 'ohe__Model_V-класс', 'ohe__Model_Vanguard',\n",
       "       'ohe__Model_Vectra', 'ohe__Model_Vellfire', 'ohe__Model_Veloster',\n",
       "       'ohe__Model_Venga', 'ohe__Model_Venue', 'ohe__Model_Venza',\n",
       "       'ohe__Model_Verna', 'ohe__Model_Verso', 'ohe__Model_Very',\n",
       "       'ohe__Model_Vezel', 'ohe__Model_Viano', 'ohe__Model_Vita',\n",
       "       'ohe__Model_Vitara', 'ohe__Model_Vito', 'ohe__Model_Vitz',\n",
       "       'ohe__Model_Viva', 'ohe__Model_Volga Siber', 'ohe__Model_Voxy',\n",
       "       'ohe__Model_W115', 'ohe__Model_W123', 'ohe__Model_WRX',\n",
       "       'ohe__Model_WRX STI', 'ohe__Model_Wagon R', 'ohe__Model_Windom',\n",
       "       'ohe__Model_Wish', 'ohe__Model_X-Trail', 'ohe__Model_X-класс',\n",
       "       'ohe__Model_X1', 'ohe__Model_X2', 'ohe__Model_X3', 'ohe__Model_X4',\n",
       "       'ohe__Model_X5', 'ohe__Model_X5 M', 'ohe__Model_X6',\n",
       "       'ohe__Model_X6 M', 'ohe__Model_X7', 'ohe__Model_XBee',\n",
       "       'ohe__Model_XCeed', 'ohe__Model_XL7', 'ohe__Model_XV',\n",
       "       'ohe__Model_Xedos 9', 'ohe__Model_Xiaolong Max',\n",
       "       'ohe__Model_Xpander', 'ohe__Model_Xpander Cross',\n",
       "       'ohe__Model_Yaris', 'ohe__Model_Yaris Cross', 'ohe__Model_Yeti',\n",
       "       'ohe__Model_Z4', 'ohe__Model_ZDX', 'ohe__Model_Zafira',\n",
       "       'ohe__Model_bB', 'ohe__Model_bZ4X',\n",
       "       'ohe__Model_e-tron S Sportback', 'ohe__Model_e-tron Sportback',\n",
       "       'ohe__Model_e:NP1', 'ohe__Model_eQ5', 'ohe__Model_i20',\n",
       "       'ohe__Model_i30', 'ohe__Model_i30 N', 'ohe__Model_i40',\n",
       "       'ohe__Model_iX', 'ohe__Model_ix35', 'ohe__Model_ix55',\n",
       "       'ohe__Model_mi-DO', 'ohe__Model_on-DO', 'ohe__Model_ГАЗель 2705',\n",
       "       'ohe__Model_ГАЗель 2747', 'ohe__Model_ГАЗель 3221',\n",
       "       'ohe__Model_ГАЗель 3302', 'ohe__Model_ГАЗель 33023',\n",
       "       'ohe__Model_ГАЗель Next', 'ohe__Model_Карго',\n",
       "       'ohe__Model_М-20 Победа', 'ohe__Model_Профи', 'ohe__Model_Симбир',\n",
       "       'ohe__Model_Соболь 2217', 'ohe__Model_Соболь 2310',\n",
       "       'ohe__Model_Соболь 2752', 'ohe__Model_nan', 'ohe__Transmission_AT',\n",
       "       'ohe__Transmission_CVT', 'ohe__Transmission_MT',\n",
       "       'ohe__Body_type_кабриолет', 'ohe__Body_type_купе',\n",
       "       'ohe__Body_type_лифтбек', 'ohe__Body_type_микроавтобус',\n",
       "       'ohe__Body_type_минивэн', 'ohe__Body_type_пикап',\n",
       "       'ohe__Body_type_седан', 'ohe__Body_type_универсал',\n",
       "       'ohe__Body_type_фургон', 'ohe__Body_type_хетчбэк',\n",
       "       'ohe__Drive_type_передний', 'ohe__Drive_type_полный',\n",
       "       'ohe__Engine_type_газ', 'ohe__Engine_type_гибрид',\n",
       "       'ohe__Engine_type_дизель', 'ohe__Engine_type_электро',\n",
       "       'ohe__Origin_Asian', 'ohe__Origin_European', 'ohe__Origin_Russian'],\n",
       "      dtype=object)"
      ]
     },
     "execution_count": 20,
     "metadata": {},
     "output_type": "execute_result"
    }
   ],
   "source": [
    "transformer_names = column_transformer.get_feature_names_out()\n",
    "transformer_names"
   ]
  },
  {
   "cell_type": "code",
   "execution_count": 18,
   "metadata": {},
   "outputs": [
    {
     "name": "stderr",
     "output_type": "stream",
     "text": [
      "c:\\Users\\фвьшт\\AppData\\Local\\Programs\\Python\\Python312\\Lib\\site-packages\\sklearn\\preprocessing\\_encoders.py:228: UserWarning: Found unknown categories in columns [1] during transform. These unknown categories will be encoded as all zeros\n",
      "  warnings.warn(\n"
     ]
    }
   ],
   "source": [
    "X_train_scaled = pd.DataFrame(column_transformer.fit_transform(X_train).toarray())\n",
    "X_test_scaled = pd.DataFrame(column_transformer.transform(X_test).toarray())"
   ]
  },
  {
   "cell_type": "markdown",
   "metadata": {},
   "source": [
    "## 3. Обучение Линейной Регрессии"
   ]
  },
  {
   "cell_type": "markdown",
   "metadata": {},
   "source": [
    "Линейная регрессия может быть полезна в такой задаче из-за своей простоты и интуитивной интерпретируемости. Она позволяет оценить линейную зависимость между целевой переменной и набором признаков. Кроме того, линейная регрессия хорошо работает с большим количеством признаков и данными, что делает ее подходящим выбором для данной задачи"
   ]
  },
  {
   "cell_type": "code",
   "execution_count": 74,
   "metadata": {},
   "outputs": [],
   "source": [
    "lr_model = LinearRegression()\n",
    "lr_model.fit(X_train_scaled, y_train)\n",
    "\n",
    "y_train_pred = lr_model.predict(X_train_scaled)\n",
    "y_pred = lr_model.predict(X_test_scaled)"
   ]
  },
  {
   "cell_type": "code",
   "execution_count": 75,
   "metadata": {},
   "outputs": [
    {
     "name": "stdout",
     "output_type": "stream",
     "text": [
      "Train MSE = 469773127420.82654\n",
      "Test MSE = 636996932771.5793\n",
      "\n",
      "Train MAE = 337222.56179162924\n",
      "Test MAE = 374949.84728024824\n"
     ]
    }
   ],
   "source": [
    "print(f\"Train MSE = {mean_squared_error(y_train, y_train_pred)}\")\n",
    "print(f\"Test MSE = {mean_squared_error(y_test, y_pred)}\")\n",
    "print()\n",
    "print(f\"Train MAE = {mean_absolute_error(y_train, y_train_pred)}\")\n",
    "print(f\"Test MAE = {mean_absolute_error(y_test, y_pred)}\")"
   ]
  },
  {
   "cell_type": "code",
   "execution_count": 76,
   "metadata": {},
   "outputs": [
    {
     "data": {
      "text/html": [
       "<div>\n",
       "<style scoped>\n",
       "    .dataframe tbody tr th:only-of-type {\n",
       "        vertical-align: middle;\n",
       "    }\n",
       "\n",
       "    .dataframe tbody tr th {\n",
       "        vertical-align: top;\n",
       "    }\n",
       "\n",
       "    .dataframe thead th {\n",
       "        text-align: right;\n",
       "    }\n",
       "</style>\n",
       "<table border=\"1\" class=\"dataframe\">\n",
       "  <thead>\n",
       "    <tr style=\"text-align: right;\">\n",
       "      <th></th>\n",
       "      <th>Coef</th>\n",
       "    </tr>\n",
       "  </thead>\n",
       "  <tbody>\n",
       "    <tr>\n",
       "      <th>ohe__Model_M-класс AMG</th>\n",
       "      <td>-4.804956e+06</td>\n",
       "    </tr>\n",
       "    <tr>\n",
       "      <th>ohe__Model_X6 M</th>\n",
       "      <td>-3.696233e+06</td>\n",
       "    </tr>\n",
       "    <tr>\n",
       "      <th>ohe__Model_M-класс</th>\n",
       "      <td>-2.579748e+06</td>\n",
       "    </tr>\n",
       "    <tr>\n",
       "      <th>ohe__Model_B-класс</th>\n",
       "      <td>-2.512249e+06</td>\n",
       "    </tr>\n",
       "    <tr>\n",
       "      <th>ohe__Model_GL-класс AMG</th>\n",
       "      <td>-2.445120e+06</td>\n",
       "    </tr>\n",
       "    <tr>\n",
       "      <th>...</th>\n",
       "      <td>...</td>\n",
       "    </tr>\n",
       "    <tr>\n",
       "      <th>ohe__Model_G-класс AMG</th>\n",
       "      <td>8.378565e+06</td>\n",
       "    </tr>\n",
       "    <tr>\n",
       "      <th>ohe__Model_Sequoia</th>\n",
       "      <td>8.584796e+06</td>\n",
       "    </tr>\n",
       "    <tr>\n",
       "      <th>ohe__Model_Kapitan</th>\n",
       "      <td>8.845538e+06</td>\n",
       "    </tr>\n",
       "    <tr>\n",
       "      <th>ohe__Model_Corvette</th>\n",
       "      <td>1.053387e+07</td>\n",
       "    </tr>\n",
       "    <tr>\n",
       "      <th>ohe__Model_Maybach S-класс</th>\n",
       "      <td>1.236044e+07</td>\n",
       "    </tr>\n",
       "  </tbody>\n",
       "</table>\n",
       "<p>692 rows × 1 columns</p>\n",
       "</div>"
      ],
      "text/plain": [
       "                                    Coef\n",
       "ohe__Model_M-класс AMG     -4.804956e+06\n",
       "ohe__Model_X6 M            -3.696233e+06\n",
       "ohe__Model_M-класс         -2.579748e+06\n",
       "ohe__Model_B-класс         -2.512249e+06\n",
       "ohe__Model_GL-класс AMG    -2.445120e+06\n",
       "...                                  ...\n",
       "ohe__Model_G-класс AMG      8.378565e+06\n",
       "ohe__Model_Sequoia          8.584796e+06\n",
       "ohe__Model_Kapitan          8.845538e+06\n",
       "ohe__Model_Corvette         1.053387e+07\n",
       "ohe__Model_Maybach S-класс  1.236044e+07\n",
       "\n",
       "[692 rows x 1 columns]"
      ]
     },
     "execution_count": 76,
     "metadata": {},
     "output_type": "execute_result"
    }
   ],
   "source": [
    "# Создадим таблицу с весами\n",
    "lr_base_feature_coefs = pd.DataFrame(\n",
    "    data=lr_model.coef_, index=transformer_names, columns=['Coef']\n",
    ")\n",
    "\n",
    "lr_base_feature_coefs.sort_values(by='Coef')"
   ]
  },
  {
   "cell_type": "markdown",
   "metadata": {},
   "source": [
    "__Вывод:__ Итак, посмотрев на получившиеся оптимальные веса модели, нетрудно заметить симптом переобучения, подгонки нашей модели под данные, - большие веса у признаков. Более того, обобщающая способность модели получается низкой, ведь она оказывается не способна выдавать хорошие резльтаты как на тренировочной выборке, так и на тестовой."
   ]
  },
  {
   "cell_type": "markdown",
   "metadata": {},
   "source": [
    "## 3) Decision Tree"
   ]
  },
  {
   "cell_type": "markdown",
   "metadata": {},
   "source": [
    "Случайный лес и решающее дерево являются более сложными моделями, которые могут улавливать нелинейные зависимости между признаками и целевой переменной. Эти модели могут быть эффективны в предсказании цены машин, особенно если данные содержат сложные взаимосвязи между признаками. Кроме того, случайный лес и решающее дерево способны обрабатывать большое количество признаков без потери производительности"
   ]
  },
  {
   "cell_type": "code",
   "execution_count": 80,
   "metadata": {},
   "outputs": [],
   "source": [
    "dt_model = DecisionTreeRegressor()"
   ]
  },
  {
   "cell_type": "markdown",
   "metadata": {},
   "source": [
    "Задаем сетку параметров для поиска"
   ]
  },
  {
   "cell_type": "code",
   "execution_count": 97,
   "metadata": {},
   "outputs": [],
   "source": [
    "dt_param_grid = {\n",
    "    'max_depth': [5, 10, 15, 20, 25],\n",
    "    'min_samples_split': [2, 5, 10, 15],\n",
    "    'min_samples_leaf': [1, 2, 5, 10]\n",
    "}"
   ]
  },
  {
   "cell_type": "markdown",
   "metadata": {},
   "source": [
    "Использование `RandomizedSearchCV` вместо `GridSearchCV`  на больших объемах данных позволяет проводить более эффективный и быстрый поиск оптимальных гиперпараметров для моделей машинного обучения."
   ]
  },
  {
   "cell_type": "code",
   "execution_count": 98,
   "metadata": {},
   "outputs": [
    {
     "data": {
      "text/html": [
       "<style>#sk-container-id-14 {color: black;}#sk-container-id-14 pre{padding: 0;}#sk-container-id-14 div.sk-toggleable {background-color: white;}#sk-container-id-14 label.sk-toggleable__label {cursor: pointer;display: block;width: 100%;margin-bottom: 0;padding: 0.3em;box-sizing: border-box;text-align: center;}#sk-container-id-14 label.sk-toggleable__label-arrow:before {content: \"▸\";float: left;margin-right: 0.25em;color: #696969;}#sk-container-id-14 label.sk-toggleable__label-arrow:hover:before {color: black;}#sk-container-id-14 div.sk-estimator:hover label.sk-toggleable__label-arrow:before {color: black;}#sk-container-id-14 div.sk-toggleable__content {max-height: 0;max-width: 0;overflow: hidden;text-align: left;background-color: #f0f8ff;}#sk-container-id-14 div.sk-toggleable__content pre {margin: 0.2em;color: black;border-radius: 0.25em;background-color: #f0f8ff;}#sk-container-id-14 input.sk-toggleable__control:checked~div.sk-toggleable__content {max-height: 200px;max-width: 100%;overflow: auto;}#sk-container-id-14 input.sk-toggleable__control:checked~label.sk-toggleable__label-arrow:before {content: \"▾\";}#sk-container-id-14 div.sk-estimator input.sk-toggleable__control:checked~label.sk-toggleable__label {background-color: #d4ebff;}#sk-container-id-14 div.sk-label input.sk-toggleable__control:checked~label.sk-toggleable__label {background-color: #d4ebff;}#sk-container-id-14 input.sk-hidden--visually {border: 0;clip: rect(1px 1px 1px 1px);clip: rect(1px, 1px, 1px, 1px);height: 1px;margin: -1px;overflow: hidden;padding: 0;position: absolute;width: 1px;}#sk-container-id-14 div.sk-estimator {font-family: monospace;background-color: #f0f8ff;border: 1px dotted black;border-radius: 0.25em;box-sizing: border-box;margin-bottom: 0.5em;}#sk-container-id-14 div.sk-estimator:hover {background-color: #d4ebff;}#sk-container-id-14 div.sk-parallel-item::after {content: \"\";width: 100%;border-bottom: 1px solid gray;flex-grow: 1;}#sk-container-id-14 div.sk-label:hover label.sk-toggleable__label {background-color: #d4ebff;}#sk-container-id-14 div.sk-serial::before {content: \"\";position: absolute;border-left: 1px solid gray;box-sizing: border-box;top: 0;bottom: 0;left: 50%;z-index: 0;}#sk-container-id-14 div.sk-serial {display: flex;flex-direction: column;align-items: center;background-color: white;padding-right: 0.2em;padding-left: 0.2em;position: relative;}#sk-container-id-14 div.sk-item {position: relative;z-index: 1;}#sk-container-id-14 div.sk-parallel {display: flex;align-items: stretch;justify-content: center;background-color: white;position: relative;}#sk-container-id-14 div.sk-item::before, #sk-container-id-14 div.sk-parallel-item::before {content: \"\";position: absolute;border-left: 1px solid gray;box-sizing: border-box;top: 0;bottom: 0;left: 50%;z-index: -1;}#sk-container-id-14 div.sk-parallel-item {display: flex;flex-direction: column;z-index: 1;position: relative;background-color: white;}#sk-container-id-14 div.sk-parallel-item:first-child::after {align-self: flex-end;width: 50%;}#sk-container-id-14 div.sk-parallel-item:last-child::after {align-self: flex-start;width: 50%;}#sk-container-id-14 div.sk-parallel-item:only-child::after {width: 0;}#sk-container-id-14 div.sk-dashed-wrapped {border: 1px dashed gray;margin: 0 0.4em 0.5em 0.4em;box-sizing: border-box;padding-bottom: 0.4em;background-color: white;}#sk-container-id-14 div.sk-label label {font-family: monospace;font-weight: bold;display: inline-block;line-height: 1.2em;}#sk-container-id-14 div.sk-label-container {text-align: center;}#sk-container-id-14 div.sk-container {/* jupyter's `normalize.less` sets `[hidden] { display: none; }` but bootstrap.min.css set `[hidden] { display: none !important; }` so we also need the `!important` here to be able to override the default hidden behavior on the sphinx rendered scikit-learn.org. See: https://github.com/scikit-learn/scikit-learn/issues/21755 */display: inline-block !important;position: relative;}#sk-container-id-14 div.sk-text-repr-fallback {display: none;}</style><div id=\"sk-container-id-14\" class=\"sk-top-container\"><div class=\"sk-text-repr-fallback\"><pre>RandomizedSearchCV(cv=5,\n",
       "                   estimator=DecisionTreeRegressor(max_depth=25,\n",
       "                                                   min_samples_split=5),\n",
       "                   param_distributions={&#x27;max_depth&#x27;: [5, 10, 15, 20, 25],\n",
       "                                        &#x27;min_samples_leaf&#x27;: [1, 2, 5, 10],\n",
       "                                        &#x27;min_samples_split&#x27;: [2, 5, 10, 15]})</pre><b>In a Jupyter environment, please rerun this cell to show the HTML representation or trust the notebook. <br />On GitHub, the HTML representation is unable to render, please try loading this page with nbviewer.org.</b></div><div class=\"sk-container\" hidden><div class=\"sk-item sk-dashed-wrapped\"><div class=\"sk-label-container\"><div class=\"sk-label sk-toggleable\"><input class=\"sk-toggleable__control sk-hidden--visually\" id=\"sk-estimator-id-42\" type=\"checkbox\" ><label for=\"sk-estimator-id-42\" class=\"sk-toggleable__label sk-toggleable__label-arrow\">RandomizedSearchCV</label><div class=\"sk-toggleable__content\"><pre>RandomizedSearchCV(cv=5,\n",
       "                   estimator=DecisionTreeRegressor(max_depth=25,\n",
       "                                                   min_samples_split=5),\n",
       "                   param_distributions={&#x27;max_depth&#x27;: [5, 10, 15, 20, 25],\n",
       "                                        &#x27;min_samples_leaf&#x27;: [1, 2, 5, 10],\n",
       "                                        &#x27;min_samples_split&#x27;: [2, 5, 10, 15]})</pre></div></div></div><div class=\"sk-parallel\"><div class=\"sk-parallel-item\"><div class=\"sk-item\"><div class=\"sk-label-container\"><div class=\"sk-label sk-toggleable\"><input class=\"sk-toggleable__control sk-hidden--visually\" id=\"sk-estimator-id-43\" type=\"checkbox\" ><label for=\"sk-estimator-id-43\" class=\"sk-toggleable__label sk-toggleable__label-arrow\">estimator: DecisionTreeRegressor</label><div class=\"sk-toggleable__content\"><pre>DecisionTreeRegressor(max_depth=25, min_samples_split=5)</pre></div></div></div><div class=\"sk-serial\"><div class=\"sk-item\"><div class=\"sk-estimator sk-toggleable\"><input class=\"sk-toggleable__control sk-hidden--visually\" id=\"sk-estimator-id-44\" type=\"checkbox\" ><label for=\"sk-estimator-id-44\" class=\"sk-toggleable__label sk-toggleable__label-arrow\">DecisionTreeRegressor</label><div class=\"sk-toggleable__content\"><pre>DecisionTreeRegressor(max_depth=25, min_samples_split=5)</pre></div></div></div></div></div></div></div></div></div></div>"
      ],
      "text/plain": [
       "RandomizedSearchCV(cv=5,\n",
       "                   estimator=DecisionTreeRegressor(max_depth=25,\n",
       "                                                   min_samples_split=5),\n",
       "                   param_distributions={'max_depth': [5, 10, 15, 20, 25],\n",
       "                                        'min_samples_leaf': [1, 2, 5, 10],\n",
       "                                        'min_samples_split': [2, 5, 10, 15]})"
      ]
     },
     "execution_count": 98,
     "metadata": {},
     "output_type": "execute_result"
    }
   ],
   "source": [
    "dt_grid_search = RandomizedSearchCV(dt_model, dt_param_grid, cv=5)\n",
    "dt_grid_search.fit(X_train_scaled, y_train)"
   ]
  },
  {
   "cell_type": "code",
   "execution_count": 99,
   "metadata": {},
   "outputs": [
    {
     "name": "stdout",
     "output_type": "stream",
     "text": [
      "Лучшие параметры модели: {'min_samples_split': 10, 'min_samples_leaf': 1, 'max_depth': 25}\n"
     ]
    }
   ],
   "source": [
    "# Выводим лучшие параметры модели\n",
    "print(\"Лучшие параметры модели:\", dt_grid_search.best_params_)"
   ]
  },
  {
   "cell_type": "code",
   "execution_count": 100,
   "metadata": {},
   "outputs": [
    {
     "data": {
      "text/plain": [
       "(10, 1, 25)"
      ]
     },
     "execution_count": 100,
     "metadata": {},
     "output_type": "execute_result"
    }
   ],
   "source": [
    "dt_best_min_samples_split, dt_best_min_samples_leaf, dt_best_max_depth = dt_grid_search.best_params_.values()\n",
    "dt_best_min_samples_split, dt_best_min_samples_leaf, dt_best_max_depth "
   ]
  },
  {
   "cell_type": "code",
   "execution_count": 101,
   "metadata": {},
   "outputs": [
    {
     "data": {
      "text/html": [
       "<style>#sk-container-id-15 {color: black;}#sk-container-id-15 pre{padding: 0;}#sk-container-id-15 div.sk-toggleable {background-color: white;}#sk-container-id-15 label.sk-toggleable__label {cursor: pointer;display: block;width: 100%;margin-bottom: 0;padding: 0.3em;box-sizing: border-box;text-align: center;}#sk-container-id-15 label.sk-toggleable__label-arrow:before {content: \"▸\";float: left;margin-right: 0.25em;color: #696969;}#sk-container-id-15 label.sk-toggleable__label-arrow:hover:before {color: black;}#sk-container-id-15 div.sk-estimator:hover label.sk-toggleable__label-arrow:before {color: black;}#sk-container-id-15 div.sk-toggleable__content {max-height: 0;max-width: 0;overflow: hidden;text-align: left;background-color: #f0f8ff;}#sk-container-id-15 div.sk-toggleable__content pre {margin: 0.2em;color: black;border-radius: 0.25em;background-color: #f0f8ff;}#sk-container-id-15 input.sk-toggleable__control:checked~div.sk-toggleable__content {max-height: 200px;max-width: 100%;overflow: auto;}#sk-container-id-15 input.sk-toggleable__control:checked~label.sk-toggleable__label-arrow:before {content: \"▾\";}#sk-container-id-15 div.sk-estimator input.sk-toggleable__control:checked~label.sk-toggleable__label {background-color: #d4ebff;}#sk-container-id-15 div.sk-label input.sk-toggleable__control:checked~label.sk-toggleable__label {background-color: #d4ebff;}#sk-container-id-15 input.sk-hidden--visually {border: 0;clip: rect(1px 1px 1px 1px);clip: rect(1px, 1px, 1px, 1px);height: 1px;margin: -1px;overflow: hidden;padding: 0;position: absolute;width: 1px;}#sk-container-id-15 div.sk-estimator {font-family: monospace;background-color: #f0f8ff;border: 1px dotted black;border-radius: 0.25em;box-sizing: border-box;margin-bottom: 0.5em;}#sk-container-id-15 div.sk-estimator:hover {background-color: #d4ebff;}#sk-container-id-15 div.sk-parallel-item::after {content: \"\";width: 100%;border-bottom: 1px solid gray;flex-grow: 1;}#sk-container-id-15 div.sk-label:hover label.sk-toggleable__label {background-color: #d4ebff;}#sk-container-id-15 div.sk-serial::before {content: \"\";position: absolute;border-left: 1px solid gray;box-sizing: border-box;top: 0;bottom: 0;left: 50%;z-index: 0;}#sk-container-id-15 div.sk-serial {display: flex;flex-direction: column;align-items: center;background-color: white;padding-right: 0.2em;padding-left: 0.2em;position: relative;}#sk-container-id-15 div.sk-item {position: relative;z-index: 1;}#sk-container-id-15 div.sk-parallel {display: flex;align-items: stretch;justify-content: center;background-color: white;position: relative;}#sk-container-id-15 div.sk-item::before, #sk-container-id-15 div.sk-parallel-item::before {content: \"\";position: absolute;border-left: 1px solid gray;box-sizing: border-box;top: 0;bottom: 0;left: 50%;z-index: -1;}#sk-container-id-15 div.sk-parallel-item {display: flex;flex-direction: column;z-index: 1;position: relative;background-color: white;}#sk-container-id-15 div.sk-parallel-item:first-child::after {align-self: flex-end;width: 50%;}#sk-container-id-15 div.sk-parallel-item:last-child::after {align-self: flex-start;width: 50%;}#sk-container-id-15 div.sk-parallel-item:only-child::after {width: 0;}#sk-container-id-15 div.sk-dashed-wrapped {border: 1px dashed gray;margin: 0 0.4em 0.5em 0.4em;box-sizing: border-box;padding-bottom: 0.4em;background-color: white;}#sk-container-id-15 div.sk-label label {font-family: monospace;font-weight: bold;display: inline-block;line-height: 1.2em;}#sk-container-id-15 div.sk-label-container {text-align: center;}#sk-container-id-15 div.sk-container {/* jupyter's `normalize.less` sets `[hidden] { display: none; }` but bootstrap.min.css set `[hidden] { display: none !important; }` so we also need the `!important` here to be able to override the default hidden behavior on the sphinx rendered scikit-learn.org. See: https://github.com/scikit-learn/scikit-learn/issues/21755 */display: inline-block !important;position: relative;}#sk-container-id-15 div.sk-text-repr-fallback {display: none;}</style><div id=\"sk-container-id-15\" class=\"sk-top-container\"><div class=\"sk-text-repr-fallback\"><pre>DecisionTreeRegressor(max_depth=25, min_samples_split=10)</pre><b>In a Jupyter environment, please rerun this cell to show the HTML representation or trust the notebook. <br />On GitHub, the HTML representation is unable to render, please try loading this page with nbviewer.org.</b></div><div class=\"sk-container\" hidden><div class=\"sk-item\"><div class=\"sk-estimator sk-toggleable\"><input class=\"sk-toggleable__control sk-hidden--visually\" id=\"sk-estimator-id-45\" type=\"checkbox\" checked><label for=\"sk-estimator-id-45\" class=\"sk-toggleable__label sk-toggleable__label-arrow\">DecisionTreeRegressor</label><div class=\"sk-toggleable__content\"><pre>DecisionTreeRegressor(max_depth=25, min_samples_split=10)</pre></div></div></div></div></div>"
      ],
      "text/plain": [
       "DecisionTreeRegressor(max_depth=25, min_samples_split=10)"
      ]
     },
     "execution_count": 101,
     "metadata": {},
     "output_type": "execute_result"
    }
   ],
   "source": [
    "dt_model = DecisionTreeRegressor(\n",
    "    min_samples_split=dt_best_min_samples_split, min_samples_leaf=dt_best_min_samples_leaf ,max_depth=dt_best_max_depth\n",
    ")\n",
    "\n",
    "dt_model.fit(X_train_scaled, y_train)"
   ]
  },
  {
   "cell_type": "code",
   "execution_count": 102,
   "metadata": {},
   "outputs": [],
   "source": [
    "y_train_pred = dt_model.predict(X_train_scaled)\n",
    "y_pred = dt_model.predict(X_test_scaled)"
   ]
  },
  {
   "cell_type": "code",
   "execution_count": 103,
   "metadata": {},
   "outputs": [
    {
     "name": "stdout",
     "output_type": "stream",
     "text": [
      "Train MSE = 87063895219.45853\n",
      "Test MSE = 299190553116.67175\n",
      "\n",
      "Train MAE = 125828.99062199492\n",
      "Test MAE = 261123.8987171451\n"
     ]
    }
   ],
   "source": [
    "print(f\"Train MSE = {mean_squared_error(y_train, y_train_pred)}\")\n",
    "print(f\"Test MSE = {mean_squared_error(y_test, y_pred)}\")\n",
    "print()\n",
    "print(f\"Train MAE = {mean_absolute_error(y_train, y_train_pred)}\")\n",
    "print(f\"Test MAE = {mean_absolute_error(y_test, y_pred)}\")"
   ]
  },
  {
   "cell_type": "code",
   "execution_count": 104,
   "metadata": {},
   "outputs": [
    {
     "data": {
      "text/html": [
       "<div>\n",
       "<style scoped>\n",
       "    .dataframe tbody tr th:only-of-type {\n",
       "        vertical-align: middle;\n",
       "    }\n",
       "\n",
       "    .dataframe tbody tr th {\n",
       "        vertical-align: top;\n",
       "    }\n",
       "\n",
       "    .dataframe thead th {\n",
       "        text-align: right;\n",
       "    }\n",
       "</style>\n",
       "<table border=\"1\" class=\"dataframe\">\n",
       "  <thead>\n",
       "    <tr style=\"text-align: right;\">\n",
       "      <th></th>\n",
       "      <th>Coef</th>\n",
       "    </tr>\n",
       "  </thead>\n",
       "  <tbody>\n",
       "    <tr>\n",
       "      <th>scaling__Count_horsepower</th>\n",
       "      <td>0.612903</td>\n",
       "    </tr>\n",
       "    <tr>\n",
       "      <th>scaling__Year</th>\n",
       "      <td>0.188853</td>\n",
       "    </tr>\n",
       "    <tr>\n",
       "      <th>scaling__Usage_intensity</th>\n",
       "      <td>0.034091</td>\n",
       "    </tr>\n",
       "    <tr>\n",
       "      <th>scaling__Mileage</th>\n",
       "      <td>0.031301</td>\n",
       "    </tr>\n",
       "    <tr>\n",
       "      <th>ohe__Brand_Mercedes-Benz</th>\n",
       "      <td>0.027606</td>\n",
       "    </tr>\n",
       "    <tr>\n",
       "      <th>...</th>\n",
       "      <td>...</td>\n",
       "    </tr>\n",
       "    <tr>\n",
       "      <th>ohe__Model_Mark II Wagon Qualis</th>\n",
       "      <td>0.000000</td>\n",
       "    </tr>\n",
       "    <tr>\n",
       "      <th>ohe__Model_Mark II</th>\n",
       "      <td>0.000000</td>\n",
       "    </tr>\n",
       "    <tr>\n",
       "      <th>ohe__Model_Malibu</th>\n",
       "      <td>0.000000</td>\n",
       "    </tr>\n",
       "    <tr>\n",
       "      <th>ohe__Model_MPV</th>\n",
       "      <td>0.000000</td>\n",
       "    </tr>\n",
       "    <tr>\n",
       "      <th>ohe__Model_Justy</th>\n",
       "      <td>0.000000</td>\n",
       "    </tr>\n",
       "  </tbody>\n",
       "</table>\n",
       "<p>692 rows × 1 columns</p>\n",
       "</div>"
      ],
      "text/plain": [
       "                                     Coef\n",
       "scaling__Count_horsepower        0.612903\n",
       "scaling__Year                    0.188853\n",
       "scaling__Usage_intensity         0.034091\n",
       "scaling__Mileage                 0.031301\n",
       "ohe__Brand_Mercedes-Benz         0.027606\n",
       "...                                   ...\n",
       "ohe__Model_Mark II Wagon Qualis  0.000000\n",
       "ohe__Model_Mark II               0.000000\n",
       "ohe__Model_Malibu                0.000000\n",
       "ohe__Model_MPV                   0.000000\n",
       "ohe__Model_Justy                 0.000000\n",
       "\n",
       "[692 rows x 1 columns]"
      ]
     },
     "execution_count": 104,
     "metadata": {},
     "output_type": "execute_result"
    }
   ],
   "source": [
    "# Создадим таблицу с важностями\n",
    "dt_model_feature_coefs = pd.DataFrame(\n",
    "    data=dt_model.feature_importances_, index=transformer_names, columns=['Coef']\n",
    ")\n",
    "\n",
    "dt_model_feature_coefs.sort_values(by='Coef', ascending=False)"
   ]
  },
  {
   "cell_type": "markdown",
   "metadata": {},
   "source": [
    "## 4) Random Forest"
   ]
  },
  {
   "cell_type": "markdown",
   "metadata": {},
   "source": [
    "Теперь обучим нашу модель с применение случайного леса. В машинном обучении случайный лес считается довольно распространенный алгоритмом, который помогает улучшать качество построенных моделей за счет независимого обучения большого числа деревьев. Более того, данный алгоритм не склонен к переобучению, ведь даже при увеличении числа деревьев ошибка выходит на асимптоту.\n",
    "\n",
    "Применими модель Random Forest и произведем перебор по сетке с целью нахождения оптимальный гиперпараметров."
   ]
  },
  {
   "cell_type": "code",
   "execution_count": 108,
   "metadata": {},
   "outputs": [],
   "source": [
    "rf_model = RandomForestRegressor()"
   ]
  },
  {
   "cell_type": "markdown",
   "metadata": {},
   "source": [
    "Зададим сетку параметров для поиска"
   ]
  },
  {
   "cell_type": "code",
   "execution_count": 118,
   "metadata": {},
   "outputs": [],
   "source": [
    "rf_param_grid = {\n",
    "    'n_estimators': [100],\n",
    "    'max_depth': [3, 5, 10, 15],\n",
    "    'min_samples_split': [2, 5, 10]\n",
    "}"
   ]
  },
  {
   "cell_type": "code",
   "execution_count": 119,
   "metadata": {},
   "outputs": [
    {
     "data": {
      "text/html": [
       "<style>#sk-container-id-16 {color: black;}#sk-container-id-16 pre{padding: 0;}#sk-container-id-16 div.sk-toggleable {background-color: white;}#sk-container-id-16 label.sk-toggleable__label {cursor: pointer;display: block;width: 100%;margin-bottom: 0;padding: 0.3em;box-sizing: border-box;text-align: center;}#sk-container-id-16 label.sk-toggleable__label-arrow:before {content: \"▸\";float: left;margin-right: 0.25em;color: #696969;}#sk-container-id-16 label.sk-toggleable__label-arrow:hover:before {color: black;}#sk-container-id-16 div.sk-estimator:hover label.sk-toggleable__label-arrow:before {color: black;}#sk-container-id-16 div.sk-toggleable__content {max-height: 0;max-width: 0;overflow: hidden;text-align: left;background-color: #f0f8ff;}#sk-container-id-16 div.sk-toggleable__content pre {margin: 0.2em;color: black;border-radius: 0.25em;background-color: #f0f8ff;}#sk-container-id-16 input.sk-toggleable__control:checked~div.sk-toggleable__content {max-height: 200px;max-width: 100%;overflow: auto;}#sk-container-id-16 input.sk-toggleable__control:checked~label.sk-toggleable__label-arrow:before {content: \"▾\";}#sk-container-id-16 div.sk-estimator input.sk-toggleable__control:checked~label.sk-toggleable__label {background-color: #d4ebff;}#sk-container-id-16 div.sk-label input.sk-toggleable__control:checked~label.sk-toggleable__label {background-color: #d4ebff;}#sk-container-id-16 input.sk-hidden--visually {border: 0;clip: rect(1px 1px 1px 1px);clip: rect(1px, 1px, 1px, 1px);height: 1px;margin: -1px;overflow: hidden;padding: 0;position: absolute;width: 1px;}#sk-container-id-16 div.sk-estimator {font-family: monospace;background-color: #f0f8ff;border: 1px dotted black;border-radius: 0.25em;box-sizing: border-box;margin-bottom: 0.5em;}#sk-container-id-16 div.sk-estimator:hover {background-color: #d4ebff;}#sk-container-id-16 div.sk-parallel-item::after {content: \"\";width: 100%;border-bottom: 1px solid gray;flex-grow: 1;}#sk-container-id-16 div.sk-label:hover label.sk-toggleable__label {background-color: #d4ebff;}#sk-container-id-16 div.sk-serial::before {content: \"\";position: absolute;border-left: 1px solid gray;box-sizing: border-box;top: 0;bottom: 0;left: 50%;z-index: 0;}#sk-container-id-16 div.sk-serial {display: flex;flex-direction: column;align-items: center;background-color: white;padding-right: 0.2em;padding-left: 0.2em;position: relative;}#sk-container-id-16 div.sk-item {position: relative;z-index: 1;}#sk-container-id-16 div.sk-parallel {display: flex;align-items: stretch;justify-content: center;background-color: white;position: relative;}#sk-container-id-16 div.sk-item::before, #sk-container-id-16 div.sk-parallel-item::before {content: \"\";position: absolute;border-left: 1px solid gray;box-sizing: border-box;top: 0;bottom: 0;left: 50%;z-index: -1;}#sk-container-id-16 div.sk-parallel-item {display: flex;flex-direction: column;z-index: 1;position: relative;background-color: white;}#sk-container-id-16 div.sk-parallel-item:first-child::after {align-self: flex-end;width: 50%;}#sk-container-id-16 div.sk-parallel-item:last-child::after {align-self: flex-start;width: 50%;}#sk-container-id-16 div.sk-parallel-item:only-child::after {width: 0;}#sk-container-id-16 div.sk-dashed-wrapped {border: 1px dashed gray;margin: 0 0.4em 0.5em 0.4em;box-sizing: border-box;padding-bottom: 0.4em;background-color: white;}#sk-container-id-16 div.sk-label label {font-family: monospace;font-weight: bold;display: inline-block;line-height: 1.2em;}#sk-container-id-16 div.sk-label-container {text-align: center;}#sk-container-id-16 div.sk-container {/* jupyter's `normalize.less` sets `[hidden] { display: none; }` but bootstrap.min.css set `[hidden] { display: none !important; }` so we also need the `!important` here to be able to override the default hidden behavior on the sphinx rendered scikit-learn.org. See: https://github.com/scikit-learn/scikit-learn/issues/21755 */display: inline-block !important;position: relative;}#sk-container-id-16 div.sk-text-repr-fallback {display: none;}</style><div id=\"sk-container-id-16\" class=\"sk-top-container\"><div class=\"sk-text-repr-fallback\"><pre>RandomizedSearchCV(cv=5, estimator=RandomForestRegressor(),\n",
       "                   param_distributions={&#x27;max_depth&#x27;: [3, 5, 10, 15],\n",
       "                                        &#x27;min_samples_split&#x27;: [2, 5, 10],\n",
       "                                        &#x27;n_estimators&#x27;: [100]})</pre><b>In a Jupyter environment, please rerun this cell to show the HTML representation or trust the notebook. <br />On GitHub, the HTML representation is unable to render, please try loading this page with nbviewer.org.</b></div><div class=\"sk-container\" hidden><div class=\"sk-item sk-dashed-wrapped\"><div class=\"sk-label-container\"><div class=\"sk-label sk-toggleable\"><input class=\"sk-toggleable__control sk-hidden--visually\" id=\"sk-estimator-id-46\" type=\"checkbox\" ><label for=\"sk-estimator-id-46\" class=\"sk-toggleable__label sk-toggleable__label-arrow\">RandomizedSearchCV</label><div class=\"sk-toggleable__content\"><pre>RandomizedSearchCV(cv=5, estimator=RandomForestRegressor(),\n",
       "                   param_distributions={&#x27;max_depth&#x27;: [3, 5, 10, 15],\n",
       "                                        &#x27;min_samples_split&#x27;: [2, 5, 10],\n",
       "                                        &#x27;n_estimators&#x27;: [100]})</pre></div></div></div><div class=\"sk-parallel\"><div class=\"sk-parallel-item\"><div class=\"sk-item\"><div class=\"sk-label-container\"><div class=\"sk-label sk-toggleable\"><input class=\"sk-toggleable__control sk-hidden--visually\" id=\"sk-estimator-id-47\" type=\"checkbox\" ><label for=\"sk-estimator-id-47\" class=\"sk-toggleable__label sk-toggleable__label-arrow\">estimator: RandomForestRegressor</label><div class=\"sk-toggleable__content\"><pre>RandomForestRegressor()</pre></div></div></div><div class=\"sk-serial\"><div class=\"sk-item\"><div class=\"sk-estimator sk-toggleable\"><input class=\"sk-toggleable__control sk-hidden--visually\" id=\"sk-estimator-id-48\" type=\"checkbox\" ><label for=\"sk-estimator-id-48\" class=\"sk-toggleable__label sk-toggleable__label-arrow\">RandomForestRegressor</label><div class=\"sk-toggleable__content\"><pre>RandomForestRegressor()</pre></div></div></div></div></div></div></div></div></div></div>"
      ],
      "text/plain": [
       "RandomizedSearchCV(cv=5, estimator=RandomForestRegressor(),\n",
       "                   param_distributions={'max_depth': [3, 5, 10, 15],\n",
       "                                        'min_samples_split': [2, 5, 10],\n",
       "                                        'n_estimators': [100]})"
      ]
     },
     "execution_count": 119,
     "metadata": {},
     "output_type": "execute_result"
    }
   ],
   "source": [
    "rf_grid_search = RandomizedSearchCV(rf_model, rf_param_grid, cv=5)\n",
    "rf_grid_search.fit(X_train_scaled, y_train)"
   ]
  },
  {
   "cell_type": "code",
   "execution_count": 120,
   "metadata": {},
   "outputs": [
    {
     "data": {
      "text/plain": [
       "(100, 2, 15)"
      ]
     },
     "execution_count": 120,
     "metadata": {},
     "output_type": "execute_result"
    }
   ],
   "source": [
    "rf_best_max_depth, rf_best_min_samples_split, rf_best_n_estimators = rf_grid_search.best_params_.values()\n",
    "rf_best_max_depth, rf_best_min_samples_split, rf_best_n_estimators"
   ]
  },
  {
   "cell_type": "code",
   "execution_count": 121,
   "metadata": {},
   "outputs": [],
   "source": [
    "rf_model = RandomForestRegressor(\n",
    "    n_estimators=rf_best_n_estimators, min_samples_split=rf_best_min_samples_split, max_depth=rf_best_max_depth\n",
    ")\n",
    "\n",
    "rf_model.fit(X_train_scaled, y_train);"
   ]
  },
  {
   "cell_type": "code",
   "execution_count": 122,
   "metadata": {},
   "outputs": [],
   "source": [
    "y_train_pred = rf_model.predict(X_train_scaled)\n",
    "y_pred = rf_model.predict(X_test_scaled)"
   ]
  },
  {
   "cell_type": "code",
   "execution_count": 123,
   "metadata": {},
   "outputs": [
    {
     "name": "stdout",
     "output_type": "stream",
     "text": [
      "Train MSE = 45722076804.311356\n",
      "Test MSE = 203771154168.69247\n",
      "\n",
      "Train MAE = 91787.11287523742\n",
      "Test MAE = 219091.77443745313\n"
     ]
    }
   ],
   "source": [
    "print(f\"Train MSE = {mean_squared_error(y_train, y_train_pred)}\")\n",
    "print(f\"Test MSE = {mean_squared_error(y_test, y_pred)}\")\n",
    "print()\n",
    "print(f\"Train MAE = {mean_absolute_error(y_train, y_train_pred)}\")\n",
    "print(f\"Test MAE = {mean_absolute_error(y_test, y_pred)}\")"
   ]
  },
  {
   "cell_type": "code",
   "execution_count": 126,
   "metadata": {},
   "outputs": [
    {
     "data": {
      "text/html": [
       "<div>\n",
       "<style scoped>\n",
       "    .dataframe tbody tr th:only-of-type {\n",
       "        vertical-align: middle;\n",
       "    }\n",
       "\n",
       "    .dataframe tbody tr th {\n",
       "        vertical-align: top;\n",
       "    }\n",
       "\n",
       "    .dataframe thead th {\n",
       "        text-align: right;\n",
       "    }\n",
       "</style>\n",
       "<table border=\"1\" class=\"dataframe\">\n",
       "  <thead>\n",
       "    <tr style=\"text-align: right;\">\n",
       "      <th></th>\n",
       "      <th>Coef</th>\n",
       "    </tr>\n",
       "  </thead>\n",
       "  <tbody>\n",
       "    <tr>\n",
       "      <th>scaling__Count_horsepower</th>\n",
       "      <td>0.573549</td>\n",
       "    </tr>\n",
       "    <tr>\n",
       "      <th>scaling__Year</th>\n",
       "      <td>0.199813</td>\n",
       "    </tr>\n",
       "    <tr>\n",
       "      <th>scaling__Mileage</th>\n",
       "      <td>0.056399</td>\n",
       "    </tr>\n",
       "    <tr>\n",
       "      <th>ohe__Engine_type_дизель</th>\n",
       "      <td>0.026487</td>\n",
       "    </tr>\n",
       "    <tr>\n",
       "      <th>scaling__Usage_intensity</th>\n",
       "      <td>0.023076</td>\n",
       "    </tr>\n",
       "    <tr>\n",
       "      <th>...</th>\n",
       "      <td>...</td>\n",
       "    </tr>\n",
       "    <tr>\n",
       "      <th>ohe__Model_Escudo</th>\n",
       "      <td>0.000000</td>\n",
       "    </tr>\n",
       "    <tr>\n",
       "      <th>ohe__Model_М-20 Победа</th>\n",
       "      <td>0.000000</td>\n",
       "    </tr>\n",
       "    <tr>\n",
       "      <th>ohe__Model_Town Ace Noah</th>\n",
       "      <td>0.000000</td>\n",
       "    </tr>\n",
       "    <tr>\n",
       "      <th>ohe__Model_Trax</th>\n",
       "      <td>0.000000</td>\n",
       "    </tr>\n",
       "    <tr>\n",
       "      <th>ohe__Model_Verso</th>\n",
       "      <td>0.000000</td>\n",
       "    </tr>\n",
       "  </tbody>\n",
       "</table>\n",
       "<p>692 rows × 1 columns</p>\n",
       "</div>"
      ],
      "text/plain": [
       "                               Coef\n",
       "scaling__Count_horsepower  0.573549\n",
       "scaling__Year              0.199813\n",
       "scaling__Mileage           0.056399\n",
       "ohe__Engine_type_дизель    0.026487\n",
       "scaling__Usage_intensity   0.023076\n",
       "...                             ...\n",
       "ohe__Model_Escudo          0.000000\n",
       "ohe__Model_М-20 Победа     0.000000\n",
       "ohe__Model_Town Ace Noah   0.000000\n",
       "ohe__Model_Trax            0.000000\n",
       "ohe__Model_Verso           0.000000\n",
       "\n",
       "[692 rows x 1 columns]"
      ]
     },
     "execution_count": 126,
     "metadata": {},
     "output_type": "execute_result"
    }
   ],
   "source": [
    "# Создадим таблицу с важностями\n",
    "rf_model_feature_coefs = pd.DataFrame(\n",
    "    data=rf_model.feature_importances_, index=transformer_names, columns=['Coef']\n",
    ")\n",
    "\n",
    "\n",
    "rf_model_feature_coefs.sort_values(by='Coef', ascending=False)"
   ]
  },
  {
   "cell_type": "markdown",
   "metadata": {},
   "source": [
    "__Вывод:__ Таким образом, нам удалось добиться улучшения модели, и наша ошибка на тестовой и обучающей выборке стала значительно меньше, чем при использовании линейной регресии и случайного леса. "
   ]
  }
 ],
 "metadata": {
  "kernelspec": {
   "display_name": "Python 3",
   "language": "python",
   "name": "python3"
  },
  "language_info": {
   "codemirror_mode": {
    "name": "ipython",
    "version": 3
   },
   "file_extension": ".py",
   "mimetype": "text/x-python",
   "name": "python",
   "nbconvert_exporter": "python",
   "pygments_lexer": "ipython3",
   "version": "3.12.0"
  }
 },
 "nbformat": 4,
 "nbformat_minor": 2
}
